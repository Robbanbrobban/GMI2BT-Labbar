{
 "metadata": {
  "language_info": {
   "codemirror_mode": {
    "name": "ipython",
    "version": 3
   },
   "file_extension": ".py",
   "mimetype": "text/x-python",
   "name": "python",
   "nbconvert_exporter": "python",
   "pygments_lexer": "ipython3",
   "version": "3.9.1-final"
  },
  "orig_nbformat": 2,
  "kernelspec": {
   "name": "python3",
   "display_name": "Python 3.9.1 64-bit",
   "metadata": {
    "interpreter": {
     "hash": "fee9132d16483cefafca41f856c66863c6f83ae85771b2b9c098d3603ff510c8"
    }
   }
  }
 },
 "nbformat": 4,
 "nbformat_minor": 2,
 "cells": [
  {
   "cell_type": "code",
   "execution_count": null,
   "metadata": {},
   "outputs": [],
   "source": [
    "import pandas as pd\n",
    "import numpy as np\n",
    "import matplotlib.pyplot as plt\n",
    "import seaborn as sns\n",
    "import csv\n",
    "#hämtade data ifrån trafik www.trafa.se\n",
    "#läs in filen och använd separator för att få rätt rubriker\n",
    "#Jag vill se hur utveckling mellan drivmedel har sett ut dem senaste 10 åren i sverige och hur det kommer se ut.\n",
    "df = pd.read_csv('Drivmedel_sverige.csv', sep=';')\n",
    "drivmedel = df[['Bensin','Diesel','El','Etanol','Övriga hybrider','Gas','Övriga','Totalt']]\n",
    "year = df['år']\n",
    "plt.plot(year,drivmedel)\n",
    "plt.ylabel('Bilar i sverige (miljoner)')\n",
    "plt.xlabel('År')\n",
    "plt.title('Drivmedel')\n",
    "plt.legend(drivmedel, loc='upper right')\n",
    "plt.show()\n",
    "#Denna graf tydligjorde mer att bensin har gått ner och diesel gått upp, men hur ser dem andra graferna ut i kurvan dem kanske inte kommit dit ännu, så jag skriver ut alla grafer\n"
   ]
  },
  {
   "cell_type": "code",
   "execution_count": null,
   "metadata": {},
   "outputs": [],
   "source": [
    "#Graf för bensin bilar i sverige\n",
    "bensin = df[['Bensin']]\n",
    "year = df[['år']]\n",
    "plt.plot(year,bensin)\n",
    "plt.ylabel('bilar (miljoner)')\n",
    "plt.xlabel('År')\n",
    "plt.title('Graf för bensin-bilar')\n",
    "plt.legend(bensin)\n",
    "plt.show()\n"
   ]
  },
  {
   "cell_type": "code",
   "execution_count": null,
   "metadata": {},
   "outputs": [],
   "source": [
    "#Graf för diesel bilar i sverige\n",
    "diesel = df[['Diesel']]\n",
    "year = df[['år']]\n",
    "plt.plot(year,diesel)\n",
    "plt.ylabel('bilar (miljoner)')\n",
    "plt.xlabel('År')\n",
    "plt.title('Graf för diesel-bilar')\n",
    "plt.legend(diesel)\n",
    "plt.show()"
   ]
  },
  {
   "cell_type": "code",
   "execution_count": null,
   "metadata": {},
   "outputs": [],
   "source": [
    "#Graf för el bilar i sverige\n",
    "el= df[['El']]\n",
    "year = df[['år']]\n",
    "plt.plot(year,el)\n",
    "plt.ylabel('bilar')\n",
    "plt.xlabel('År')\n",
    "plt.title('Graf för el-bilar')\n",
    "plt.legend(el)\n",
    "plt.show()"
   ]
  },
  {
   "cell_type": "code",
   "execution_count": null,
   "metadata": {},
   "outputs": [],
   "source": [
    "#Graf för etanol bilar i sverige\n",
    "etanol = df[['Etanol']]\n",
    "year = df[['år']]\n",
    "plt.plot(year,etanol)\n",
    "plt.ylabel('bilar ')\n",
    "plt.xlabel('År')\n",
    "plt.title('Graf för etanol-bilar')\n",
    "plt.legend(etanol)\n",
    "plt.show()"
   ]
  },
  {
   "cell_type": "code",
   "execution_count": null,
   "metadata": {},
   "outputs": [],
   "source": [
    "#Graf för hybrid bilar i sverige\n",
    "hybrid = df[['Övriga hybrider']]\n",
    "year = df[['år']]\n",
    "plt.plot(year,hybrid)\n",
    "plt.ylabel('bilar ')\n",
    "plt.xlabel('År')\n",
    "plt.title('Graf för hybrid-bilar')\n",
    "plt.legend(hybrid)\n",
    "plt.show()"
   ]
  },
  {
   "cell_type": "code",
   "execution_count": null,
   "metadata": {},
   "outputs": [],
   "source": [
    "#Graf för gas bilar i sverige\n",
    "gas = df[['Gas']]\n",
    "year = df[['år']]\n",
    "plt.plot(year,gas)\n",
    "plt.ylabel('bilar')\n",
    "plt.xlabel('År')\n",
    "plt.title('Graf för gas-bilar')\n",
    "plt.legend(gas)\n",
    "plt.show()"
   ]
  },
  {
   "cell_type": "code",
   "execution_count": null,
   "metadata": {},
   "outputs": [],
   "source": [
    "#Graf för övriga bilar i sverige\n",
    "others = df[['Övriga']]\n",
    "year = df[['år']]\n",
    "plt.plot(year,others)\n",
    "plt.ylabel('bilar')\n",
    "plt.xlabel('År')\n",
    "plt.title('Graf för övriga-bilar')\n",
    "plt.legend(others)\n",
    "plt.show()"
   ]
  },
  {
   "cell_type": "code",
   "execution_count": null,
   "metadata": {},
   "outputs": [],
   "source": [
    "# Nu när jag sett graferna för varje bil vill jag se ökningen och vilken som ökat mest\n",
    "# Så jag delar sista och första året med varandra för att se vilken som ökat procentuellt mest\n",
    "bensin_p = bensin.div(bensin.iloc[0])\n",
    "diesel_p = diesel.div(diesel.iloc[0])\n",
    "el_p = el.div(el.iloc[0])\n",
    "etanol_p = etanol.div(etanol.iloc[0])\n",
    "hybrid_p= hybrid.div(hybrid.iloc[0])\n",
    "gas_p = gas.div(gas.iloc[0])\n",
    "others_p = others.div(others.iloc[0])\n",
    "print(bensin_p)\n",
    "print(diesel_p)\n",
    "print(el_p)\n",
    "print(etanol_p)\n",
    "print(hybrid_p)\n",
    "print(gas_p)\n",
    "print(others_p)\n",
    "#När jag skriver ut här så blir det mer tydligt hur mycket det har ökat\n",
    "#Så då vill jag skapa en ny graf där jag skriver ut försäljning på bilar istället"
   ]
  },
  {
   "cell_type": "code",
   "execution_count": null,
   "metadata": {},
   "outputs": [],
   "source": [
    "drivmedel_p = drivmedel.div(drivmedel.iloc[0])\n",
    "plt.plot(year,drivmedel_p)\n",
    "plt.ylabel('Procent')\n",
    "plt.xlabel('År')\n",
    "plt.title('Ökning av drivmedel i procent')\n",
    "plt.legend(drivmedel, loc='upper right')\n",
    "plt.show()\n",
    "#Här blir det ju väldigt tydligt att el har ökat i försäljning markant"
   ]
  },
  {
   "cell_type": "code",
   "execution_count": null,
   "metadata": {},
   "outputs": [],
   "source": [
    "#Här vill jag rita ut en graf hur mycket el bilar kommer ha ökat fram till 2030\n",
    "y_el = np.array(df['El'])\n",
    "x_year = np.array(df['år'])\n",
    "z_el = np.polyfit(x_year, y_el, 2)\n",
    "polyfunc = np.poly1d(z_el)\n",
    "x = np.arange(2010,2040)\n",
    "y = polyfunc(x)\n",
    "plt.plot(x,y)\n",
    "plt.legend(['El-bilar'])\n",
    "plt.title('Förväntad ökning av el-bilar i sverige')\n",
    "plt.ylabel('antal el-bilar')\n",
    "plt.xlabel('År')\n",
    "plt.show()"
   ]
  },
  {
   "cell_type": "code",
   "execution_count": null,
   "metadata": {},
   "outputs": [],
   "source": [
    "#Här vill jag rita ut en graf hur mycket bensin bilar har sjunkit\n",
    "y_bensin = np.array(df['Bensin'])\n",
    "x_year = np.array(df['år'])\n",
    "z_bensin = np.polyfit(x_year, y_bensin, 2)\n",
    "polyfunc = np.poly1d(z_bensin)\n",
    "x = np.arange(2010,2040)\n",
    "y = polyfunc(x)\n",
    "plt.plot(x,y)\n",
    "plt.legend(['Bensin-bilar'])\n",
    "plt.title('Förväntad minskning av bensin-bilar i sverige')\n",
    "plt.ylabel('antal bensin-bilar i miljoner')\n",
    "plt.xlabel('År')\n",
    "plt.show()"
   ]
  },
  {
   "cell_type": "code",
   "execution_count": null,
   "metadata": {},
   "outputs": [],
   "source": [
    "# Skrev ut denna för att förstå varför kurvan för bensin kommer stiga efter antal år men denna tydligör varför bensin kommer bli aktuellt igen om inget drastiskt händer så som att man inte får sälja bensin bilar osv. Men den visar tydligt att den sjunker med så pass små enheter mellan varje år att den tillslut kommer öka om det fortsätter sjunk med åren.\n",
    "bensin_1 = bensin_p.iloc[0]-bensin_p.iloc[1]\n",
    "bensin_2 = bensin_p.iloc[1]-bensin_p.iloc[2]\n",
    "bensin_3 = bensin_p.iloc[2]-bensin_p.iloc[3]\n",
    "bensin_4 = bensin_p.iloc[3]-bensin_p.iloc[4]\n",
    "bensin_5 = bensin_p.iloc[4]-bensin_p.iloc[5]\n",
    "bensin_6 = bensin_p.iloc[5]-bensin_p.iloc[6]\n",
    "bensin_7 = bensin_p.iloc[6]-bensin_p.iloc[7]\n",
    "bensin_8 = bensin_p.iloc[7]-bensin_p.iloc[8]\n",
    "bensin_9 = bensin_p.iloc[8]-bensin_p.iloc[9]\n",
    "bensin_10 = bensin_p.iloc[9]-bensin_p.iloc[10]\n",
    "print(bensin_1)\n",
    "print(bensin_2)\n",
    "print(bensin_3)\n",
    "print(bensin_4)\n",
    "print(bensin_5)\n",
    "print(bensin_6)\n",
    "print(bensin_7)\n",
    "print(bensin_8)\n",
    "print(bensin_9)\n",
    "print(bensin_10)"
   ]
  },
  {
   "cell_type": "code",
   "execution_count": null,
   "metadata": {},
   "outputs": [],
   "source": []
  }
 ]
}